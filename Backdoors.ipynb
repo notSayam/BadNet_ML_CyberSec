{
  "nbformat": 4,
  "nbformat_minor": 0,
  "metadata": {
    "colab": {
      "provenance": [],
      "gpuType": "T4"
    },
    "kernelspec": {
      "name": "python3",
      "display_name": "Python 3"
    },
    "language_info": {
      "name": "python"
    },
    "accelerator": "GPU"
  },
  "cells": [
    {
      "cell_type": "markdown",
      "source": [
        "# Machine Learning for Cybersecurity\n",
        "\n",
        "**Name:** Sayam Dhingra </br>\n",
        "**NETID:** sd5292\n",
        "\n",
        "---\n",
        "\n"
      ],
      "metadata": {
        "id": "X55pvW0OBVC8"
      }
    },
    {
      "cell_type": "markdown",
      "source": [
        "## Importing the packages and drive files\n"
      ],
      "metadata": {
        "id": "UwF2v5bNdhKV"
      }
    },
    {
      "cell_type": "code",
      "source": [
        "import matplotlib.pyplot as plt\n",
        "import pandas as pd\n",
        "import numpy as np\n",
        "import seaborn as sns\n",
        "import keras\n",
        "import sys\n",
        "import h5py\n",
        "import warnings\n",
        "from tqdm import tqdm\n",
        "import gc"
      ],
      "metadata": {
        "id": "vB7W4IALFRCS"
      },
      "execution_count": 3,
      "outputs": []
    },
    {
      "cell_type": "code",
      "source": [
        "from google.colab import drive\n",
        "drive.mount('/content/drive')"
      ],
      "metadata": {
        "id": "oWXUWyy5ssT4",
        "outputId": "3e495bd5-e9a0-416c-a312-b87f62dff08b",
        "colab": {
          "base_uri": "https://localhost:8080/"
        }
      },
      "execution_count": 4,
      "outputs": [
        {
          "output_type": "stream",
          "name": "stdout",
          "text": [
            "Mounted at /content/drive\n"
          ]
        }
      ]
    },
    {
      "cell_type": "code",
      "source": [
        "warnings.filterwarnings(\"ignore\")"
      ],
      "metadata": {
        "id": "rLcqkwnMwPxu"
      },
      "execution_count": 5,
      "outputs": []
    },
    {
      "cell_type": "markdown",
      "source": [
        "## BadNets\n",
        "Loading and showing the badnet, printing accuracy and attack success rate for the original badnet."
      ],
      "metadata": {
        "id": "xmbIJnBneLF8"
      }
    },
    {
      "cell_type": "code",
      "metadata": {
        "id": "rHopzGL9eXAj",
        "outputId": "2cd74d10-9793-4cfe-fcdc-728f490c9704",
        "colab": {
          "base_uri": "https://localhost:8080/"
        }
      },
      "source": [
        "# File paths for the clean, poisoned data, and the model\n",
        "clean_data_filename = '/content/drive/MyDrive/lab3/data/cl/valid.h5'\n",
        "poisoned_data_filename = '/content/drive/MyDrive/lab3/data/bd/bd_valid.h5'\n",
        "model_filename = '/content/drive/MyDrive/lab3/model/bd_net.h5'\n",
        "\n",
        "# Function to load data from the given file path\n",
        "def data_loader(filepath):\n",
        "    # Open the file in read mode\n",
        "    data = h5py.File(filepath, 'r')\n",
        "    # Extract 'data' and 'label' from the file and convert them to numpy arrays\n",
        "    x_data = np.array(data['data'])\n",
        "    y_data = np.array(data['label'])\n",
        "    # Reorder the dimensions of x_data for compatibility\n",
        "    x_data = x_data.transpose((0,2,3,1))\n",
        "\n",
        "    return x_data, y_data\n",
        "\n",
        "# Main function to execute the model evaluation\n",
        "def main():\n",
        "    # Load clean and poisoned test data\n",
        "    cl_x_test, cl_y_test = data_loader(clean_data_filename)\n",
        "    bd_x_test, bd_y_test = data_loader(poisoned_data_filename)\n",
        "\n",
        "    # Load the pre-trained model\n",
        "    bd_model = keras.models.load_model(model_filename)\n",
        "\n",
        "    # Predict labels for clean data and calculate accuracy\n",
        "    cl_label_p = np.argmax(bd_model.predict(cl_x_test), axis=1)\n",
        "    clean_accuracy = np.mean(np.equal(cl_label_p, cl_y_test))*100\n",
        "    print('Clean Classification accuracy:', clean_accuracy)\n",
        "\n",
        "    # Predict labels for poisoned data and calculate attack success rate\n",
        "    bd_label_p = np.argmax(bd_model.predict(bd_x_test), axis=1)\n",
        "    asr = np.mean(np.equal(bd_label_p, bd_y_test))*100\n",
        "    print('Attack Success Rate:', asr)\n",
        "\n",
        "# Check if the script is the main program and run it\n",
        "if __name__ == '__main__':\n",
        "    main()\n"
      ],
      "execution_count": 6,
      "outputs": [
        {
          "output_type": "stream",
          "name": "stdout",
          "text": [
            "361/361 [==============================] - 11s 8ms/step\n",
            "Clean Classification accuracy: 98.64899974019225\n",
            "361/361 [==============================] - 1s 2ms/step\n",
            "Attack Success Rate: 100.0\n"
          ]
        }
      ]
    },
    {
      "cell_type": "markdown",
      "source": [
        "### Displaying the model structure"
      ],
      "metadata": {
        "id": "Rb4D0a6Teqir"
      }
    },
    {
      "cell_type": "code",
      "source": [
        "model = keras.models.load_model(model_filename)"
      ],
      "metadata": {
        "id": "CbiGGU1-rlXq"
      },
      "execution_count": 7,
      "outputs": []
    },
    {
      "cell_type": "code",
      "source": [
        "print(model.summary())"
      ],
      "metadata": {
        "id": "xr9frp8C90Am",
        "outputId": "77eb5cf3-d648-46ab-8dea-69fac2953272",
        "colab": {
          "base_uri": "https://localhost:8080/"
        }
      },
      "execution_count": 8,
      "outputs": [
        {
          "output_type": "stream",
          "name": "stdout",
          "text": [
            "Model: \"model_1\"\n",
            "__________________________________________________________________________________________________\n",
            " Layer (type)                Output Shape                 Param #   Connected to                  \n",
            "==================================================================================================\n",
            " input (InputLayer)          [(None, 55, 47, 3)]          0         []                            \n",
            "                                                                                                  \n",
            " conv_1 (Conv2D)             (None, 52, 44, 20)           980       ['input[0][0]']               \n",
            "                                                                                                  \n",
            " pool_1 (MaxPooling2D)       (None, 26, 22, 20)           0         ['conv_1[0][0]']              \n",
            "                                                                                                  \n",
            " conv_2 (Conv2D)             (None, 24, 20, 40)           7240      ['pool_1[0][0]']              \n",
            "                                                                                                  \n",
            " pool_2 (MaxPooling2D)       (None, 12, 10, 40)           0         ['conv_2[0][0]']              \n",
            "                                                                                                  \n",
            " conv_3 (Conv2D)             (None, 10, 8, 60)            21660     ['pool_2[0][0]']              \n",
            "                                                                                                  \n",
            " pool_3 (MaxPooling2D)       (None, 5, 4, 60)             0         ['conv_3[0][0]']              \n",
            "                                                                                                  \n",
            " conv_4 (Conv2D)             (None, 4, 3, 80)             19280     ['pool_3[0][0]']              \n",
            "                                                                                                  \n",
            " flatten_1 (Flatten)         (None, 1200)                 0         ['pool_3[0][0]']              \n",
            "                                                                                                  \n",
            " flatten_2 (Flatten)         (None, 960)                  0         ['conv_4[0][0]']              \n",
            "                                                                                                  \n",
            " fc_1 (Dense)                (None, 160)                  192160    ['flatten_1[0][0]']           \n",
            "                                                                                                  \n",
            " fc_2 (Dense)                (None, 160)                  153760    ['flatten_2[0][0]']           \n",
            "                                                                                                  \n",
            " add_1 (Add)                 (None, 160)                  0         ['fc_1[0][0]',                \n",
            "                                                                     'fc_2[0][0]']                \n",
            "                                                                                                  \n",
            " activation_1 (Activation)   (None, 160)                  0         ['add_1[0][0]']               \n",
            "                                                                                                  \n",
            " output (Dense)              (None, 1283)                 206563    ['activation_1[0][0]']        \n",
            "                                                                                                  \n",
            "==================================================================================================\n",
            "Total params: 601643 (2.30 MB)\n",
            "Trainable params: 601643 (2.30 MB)\n",
            "Non-trainable params: 0 (0.00 Byte)\n",
            "__________________________________________________________________________________________________\n",
            "None\n"
          ]
        }
      ]
    },
    {
      "cell_type": "markdown",
      "source": [
        "Displaying the clean data"
      ],
      "metadata": {
        "id": "U6w6yPk9fBLr"
      }
    },
    {
      "cell_type": "code",
      "source": [
        "x_data, y_data = data_loader(clean_data_filename) # loading the data"
      ],
      "metadata": {
        "id": "xKY8WGG5e6UP"
      },
      "execution_count": 9,
      "outputs": []
    },
    {
      "cell_type": "code",
      "source": [
        "# Creating a figure object for plotting, with a specified size\n",
        "figure = plt.figure(figsize=(10,8))\n",
        "\n",
        "# Defining the number of columns and rows for the subplot grid\n",
        "cols, rows = 3, 3\n",
        "\n",
        "# Looping to add subplots to the figure\n",
        "for i in range(1, cols*rows+1):\n",
        "\n",
        "    # Randomly selecting an index to pick an image and its label\n",
        "    index = np.random.randint(x_data.shape[0], size=1)\n",
        "    img, label = (x_data[index], y_data[index])\n",
        "\n",
        "    # Adding a subplot at the ith position\n",
        "    figure.add_subplot(rows, cols, i)\n",
        "    plt.title(\"true label: {}\".format(label))\n",
        "    plt.axis(\"off\") # Turning off the axis to not display it\n",
        "    plt.imshow(img[0]/255)\n",
        "\n",
        "plt.show()\n"
      ],
      "metadata": {
        "colab": {
          "base_uri": "https://localhost:8080/",
          "height": 675
        },
        "id": "4uR9tD-KenHC",
        "outputId": "e9424e08-60a9-4340-b577-9b73ee5d369d"
      },
      "execution_count": 10,
      "outputs": [
        {
          "output_type": "display_data",
          "data": {
            "text/plain": [
              "<Figure size 1000x800 with 9 Axes>"
            ],
            "image/png": "[encoded data removed]"
          },
          "metadata": {}
        }
      ]
    },
    {
      "cell_type": "markdown",
      "source": [
        "Displaying the impure or poisoned data"
      ],
      "metadata": {
        "id": "A3oj1l0LfqKP"
      }
    },
    {
      "cell_type": "code",
      "source": [
        "x_poisoned_data, y_poisoned_data = data_loader(poisoned_data_filename) # loading the data"
      ],
      "metadata": {
        "id": "KA-qTntdf1R8"
      },
      "execution_count": 11,
      "outputs": []
    },
    {
      "cell_type": "code",
      "source": [
        "# Initialize a figure for plotting with a specified size\n",
        "figure = plt.figure(figsize=(10,8))\n",
        "cols, rows = 3, 3\n",
        "\n",
        "for i in range(1, cols*rows + 1):\n",
        "\n",
        "    # Randomly select an index to choose an image and its corresponding label from the poisoned dataset\n",
        "    index = np.random.randint(x_poisoned_data.shape[0], size=1)\n",
        "    img, label = (x_poisoned_data[index], y_poisoned_data[index])\n",
        "\n",
        "    # Add a subplot in the ith position of the grid\n",
        "    figure.add_subplot(rows, cols, i)\n",
        "\n",
        "    # Plotting details\n",
        "    plt.title(\"true label: {}\".format(label))\n",
        "    plt.axis(\"off\")\n",
        "    plt.imshow(img[0]/255)\n",
        "\n",
        "plt.show()\n"
      ],
      "metadata": {
        "colab": {
          "base_uri": "https://localhost:8080/",
          "height": 675
        },
        "id": "lFBeQMrEFCTx",
        "outputId": "546ee90a-9e2f-42a3-9a9a-cca8cdc9bfcf"
      },
      "execution_count": 12,
      "outputs": [
        {
          "output_type": "display_data",
          "data": {
            "text/plain": [
              "<Figure size 1000x800 with 9 Axes>"
            ],
            "image/png": "[encoded data removed]"
          },
          "metadata": {}
        }
      ]
    },
    {
      "cell_type": "code",
      "source": [
        "# clearing the session\n",
        "keras.backend.clear_session()"
      ],
      "metadata": {
        "id": "9b3TEGQ1vVaI"
      },
      "execution_count": 13,
      "outputs": []
    },
    {
      "cell_type": "markdown",
      "source": [
        "---\n",
        "## Prune defense\n",
        "The model is pruned using the following steps:\n",
        "\n",
        "1. Initially, the activations from the final pooling layer, referred to as `pool_3`, are examined.\n",
        "2. The channel with the lowest average activation is consistently selected for pruning.\n",
        "3. In the case of the convolution layer `conv_3`, which comprises 60 channels, it's necessary to determine the specific channel index that will be pruned.\n",
        "---"
      ],
      "metadata": {
        "id": "qsV4zCN7Zulw"
      }
    },
    {
      "cell_type": "code",
      "source": [
        "# loading the data\n",
        "cl_x_test, cl_y_test = data_loader(clean_data_filename)\n",
        "bd_x_test, bd_y_test = data_loader(poisoned_data_filename)"
      ],
      "metadata": {
        "id": "NifUFwEpfqKk"
      },
      "execution_count": 14,
      "outputs": []
    },
    {
      "cell_type": "code",
      "source": [
        "clean_data_acc = 98.64899974019225 # Baseline accuracy of the clean data\n",
        "\n",
        "model_copy = keras.models.clone_model(model) # Cloning the original model to create a copy for pruning\n",
        "model_copy.set_weights(model.get_weights()) # Setting the weights of the cloned model to be the same as the original\n",
        "\n",
        "saved_model = np.zeros(3, dtype=bool) # Initializing an array to track which models have been saved\n",
        "\n",
        "layer_output = model_copy.get_layer('pool_3').output # Extracting the output of a specific layer ('pool_3') from the model copy\n",
        "intermediate_model = keras.models.Model(inputs=model_copy.input, outputs=layer_output) # Creating a new model for intermediate predictions, using the same inputs but different output layer\n",
        "intermediate_prediction = intermediate_model.predict(cl_x_test) # Making predictions with the intermediate model on clean test data\n",
        "temp = np.mean(intermediate_prediction, axis=(0, 1, 2)) # Calculating the mean activation for each filter/channel\n",
        "seq = np.argsort(temp) # Sorting the filters/channels based on their mean activation\n",
        "\n",
        "# Getting the weights and biases of a specific convolutional layer (index 5 in this case)\n",
        "weight_0, bias_0 = model_copy.layers[5].get_weights()\n",
        "\n",
        "# Lists to store clean accuracy and attack success rate for each pruned model\n",
        "clean_acc = []\n",
        "asrate = []\n",
        "\n",
        "for channel_index in tqdm(seq):\n",
        "\n",
        "    # Modify weights in place\n",
        "    weight_0[:, :, :, channel_index] = 0\n",
        "    bias_0[channel_index] = 0\n",
        "    model_copy.layers[5].set_weights([weight_0, bias_0])\n",
        "\n",
        "    # Perform predictions in batches to conserve on memory during execution\n",
        "    BATCH_SIZE = 128\n",
        "    cl_label_p = np.argmax(np.vstack([model_copy.predict_on_batch(cl_x_test[i:i+BATCH_SIZE]) for i in range(0, len(cl_x_test), BATCH_SIZE)]), axis=1)\n",
        "    clean_accuracy = np.mean(np.equal(cl_label_p, cl_y_test)) * 100\n",
        "\n",
        "    # Model saving logic\n",
        "    if (clean_data_acc-clean_accuracy >= 2 and not saved_model[0]):\n",
        "      print(\"The accuracy drops at least 2%, saved the model\")\n",
        "      model_copy.save('model_X=2.h5')\n",
        "      saved_model[0] = 1\n",
        "    if (clean_data_acc-clean_accuracy >= 4 and not saved_model[1]):\n",
        "      print(\"The accuracy drops at least 4%, saved the model\")\n",
        "      model_copy.save('model_X=4.h5')\n",
        "      saved_model[1] = 1\n",
        "    if (clean_data_acc-clean_accuracy >= 10 and not saved_model[2]):\n",
        "      print(\"The accuracy drops at least 10%, saved the model\")\n",
        "      model_copy.save('model_X=10.h5')\n",
        "      saved_model[2] = 1\n",
        "\n",
        "    # Append the calculated accuracies to respective lists\n",
        "    clean_acc.append(clean_accuracy)\n",
        "    bd_label_p = np.argmax(np.vstack([model_copy.predict_on_batch(bd_x_test[i:i+BATCH_SIZE]) for i in range(0, len(bd_x_test), BATCH_SIZE)]), axis=1)\n",
        "    asr = np.mean(np.equal(bd_label_p, bd_y_test)) * 100\n",
        "    asrate.append(asr)\n",
        "\n",
        "    # Print the results for each pruning iteration\n",
        "    print(f\"\\nThe clean accuracy is: {clean_accuracy}\")\n",
        "    print(f\"The attack success rate is: {asr}\")\n",
        "    print(f\"The pruned channel index is: {channel_index}\")\n",
        "\n",
        "    # Clear the session and garbage collect\n",
        "    keras.backend.clear_session()\n",
        "    gc.collect()  # Explicit garbage collection\n"
      ],
      "metadata": {
        "id": "GQljzY8Ebrcs",
        "outputId": "bef00855-6959-4ad5-ba5c-a4289d197579",
        "colab": {
          "base_uri": "https://localhost:8080/"
        }
      },
      "execution_count": 15,
      "outputs": [
        {
          "output_type": "stream",
          "name": "stdout",
          "text": [
            "361/361 [==============================] - 1s 2ms/step\n"
          ]
        },
        {
          "output_type": "stream",
          "name": "stderr",
          "text": [
            "\r  0%|          | 0/60 [00:00<?, ?it/s]"
          ]
        },
        {
          "output_type": "stream",
          "name": "stdout",
          "text": [
            "\n",
            "The clean accuracy is: 98.64899974019225\n",
            "The attack success rate is: 100.0\n",
            "The pruned channel index is: 0\n"
          ]
        },
        {
          "output_type": "stream",
          "name": "stderr",
          "text": [
            "  3%|▎         | 2/60 [00:08<03:49,  3.95s/it]"
          ]
        },
        {
          "output_type": "stream",
          "name": "stdout",
          "text": [
            "\n",
            "The clean accuracy is: 98.64899974019225\n",
            "The attack success rate is: 100.0\n",
            "The pruned channel index is: 26\n"
          ]
        },
        {
          "output_type": "stream",
          "name": "stderr",
          "text": [
            "\r  5%|▌         | 3/60 [00:11<03:19,  3.50s/it]"
          ]
        },
        {
          "output_type": "stream",
          "name": "stdout",
          "text": [
            "\n",
            "The clean accuracy is: 98.64899974019225\n",
            "The attack success rate is: 100.0\n",
            "The pruned channel index is: 27\n"
          ]
        },
        {
          "output_type": "stream",
          "name": "stderr",
          "text": [
            "\r  7%|▋         | 4/60 [00:13<03:01,  3.24s/it]"
          ]
        },
        {
          "output_type": "stream",
          "name": "stdout",
          "text": [
            "\n",
            "The clean accuracy is: 98.64899974019225\n",
            "The attack success rate is: 100.0\n",
            "The pruned channel index is: 30\n",
            "\n",
            "The clean accuracy is: 98.64899974019225\n",
            "The attack success rate is: 100.0\n",
            "The pruned channel index is: 31\n"
          ]
        },
        {
          "output_type": "stream",
          "name": "stderr",
          "text": [
            "\r  8%|▊         | 5/60 [00:16<02:53,  3.15s/it]"
          ]
        },
        {
          "output_type": "stream",
          "name": "stdout",
          "text": [
            "\n",
            "The clean accuracy is: 98.64899974019225\n",
            "The attack success rate is: 100.0\n",
            "The pruned channel index is: 33\n"
          ]
        },
        {
          "output_type": "stream",
          "name": "stderr",
          "text": [
            " 12%|█▏        | 7/60 [00:23<02:57,  3.35s/it]"
          ]
        },
        {
          "output_type": "stream",
          "name": "stdout",
          "text": [
            "\n",
            "The clean accuracy is: 98.64899974019225\n",
            "The attack success rate is: 100.0\n",
            "The pruned channel index is: 34\n"
          ]
        },
        {
          "output_type": "stream",
          "name": "stderr",
          "text": [
            "\r 13%|█▎        | 8/60 [00:26<02:45,  3.19s/it]"
          ]
        },
        {
          "output_type": "stream",
          "name": "stdout",
          "text": [
            "\n",
            "The clean accuracy is: 98.64899974019225\n",
            "The attack success rate is: 100.0\n",
            "The pruned channel index is: 36\n"
          ]
        },
        {
          "output_type": "stream",
          "name": "stderr",
          "text": [
            "\r 15%|█▌        | 9/60 [00:29<02:35,  3.06s/it]"
          ]
        },
        {
          "output_type": "stream",
          "name": "stdout",
          "text": [
            "\n",
            "The clean accuracy is: 98.64899974019225\n",
            "The attack success rate is: 100.0\n",
            "The pruned channel index is: 37\n",
            "\n",
            "The clean accuracy is: 98.64899974019225\n",
            "The attack success rate is: 100.0\n",
            "The pruned channel index is: 38\n"
          ]
        },
        {
          "output_type": "stream",
          "name": "stderr",
          "text": [
            "\r 17%|█▋        | 10/60 [00:32<02:29,  2.99s/it]"
          ]
        },
        {
          "output_type": "stream",
          "name": "stdout",
          "text": [
            "\n",
            "The clean accuracy is: 98.64899974019225\n",
            "The attack success rate is: 100.0\n",
            "The pruned channel index is: 25\n"
          ]
        },
        {
          "output_type": "stream",
          "name": "stderr",
          "text": [
            " 20%|██        | 12/60 [00:39<02:35,  3.24s/it]"
          ]
        },
        {
          "output_type": "stream",
          "name": "stdout",
          "text": [
            "\n",
            "The clean accuracy is: 98.64899974019225\n",
            "The attack success rate is: 100.0\n",
            "The pruned channel index is: 39\n"
          ]
        },
        {
          "output_type": "stream",
          "name": "stderr",
          "text": [
            "\r 22%|██▏       | 13/60 [00:42<02:26,  3.12s/it]"
          ]
        },
        {
          "output_type": "stream",
          "name": "stdout",
          "text": [
            "\n",
            "The clean accuracy is: 98.64899974019225\n",
            "The attack success rate is: 100.0\n",
            "The pruned channel index is: 41\n",
            "\n",
            "The clean accuracy is: 98.64899974019225\n",
            "The attack success rate is: 100.0\n",
            "The pruned channel index is: 44\n"
          ]
        },
        {
          "output_type": "stream",
          "name": "stderr",
          "text": [
            "\r 23%|██▎       | 14/60 [00:45<02:21,  3.07s/it]"
          ]
        },
        {
          "output_type": "stream",
          "name": "stdout",
          "text": [
            "\n",
            "The clean accuracy is: 98.64899974019225\n",
            "The attack success rate is: 100.0\n",
            "The pruned channel index is: 45\n"
          ]
        },
        {
          "output_type": "stream",
          "name": "stderr",
          "text": [
            "\r 25%|██▌       | 15/60 [00:49<02:34,  3.44s/it]"
          ]
        },
        {
          "output_type": "stream",
          "name": "stdout",
          "text": [
            "\n",
            "The clean accuracy is: 98.64899974019225\n",
            "The attack success rate is: 100.0\n",
            "The pruned channel index is: 47\n"
          ]
        },
        {
          "output_type": "stream",
          "name": "stderr",
          "text": [
            "\r 27%|██▋       | 16/60 [00:54<02:47,  3.80s/it]"
          ]
        },
        {
          "output_type": "stream",
          "name": "stdout",
          "text": [
            "\n",
            "The clean accuracy is: 98.64899974019225\n",
            "The attack success rate is: 100.0\n",
            "The pruned channel index is: 48\n"
          ]
        },
        {
          "output_type": "stream",
          "name": "stderr",
          "text": [
            " 30%|███       | 18/60 [00:59<02:19,  3.31s/it]"
          ]
        },
        {
          "output_type": "stream",
          "name": "stdout",
          "text": [
            "\n",
            "The clean accuracy is: 98.64899974019225\n",
            "The attack success rate is: 100.0\n",
            "The pruned channel index is: 49\n"
          ]
        },
        {
          "output_type": "stream",
          "name": "stderr",
          "text": [
            "\r 32%|███▏      | 19/60 [01:02<02:09,  3.15s/it]"
          ]
        },
        {
          "output_type": "stream",
          "name": "stdout",
          "text": [
            "\n",
            "The clean accuracy is: 98.64899974019225\n",
            "The attack success rate is: 100.0\n",
            "The pruned channel index is: 50\n",
            "\n",
            "The clean accuracy is: 98.64899974019225\n",
            "The attack success rate is: 100.0\n",
            "The pruned channel index is: 53\n"
          ]
        },
        {
          "output_type": "stream",
          "name": "stderr",
          "text": [
            "\r 33%|███▎      | 20/60 [01:05<02:06,  3.17s/it]"
          ]
        },
        {
          "output_type": "stream",
          "name": "stdout",
          "text": [
            "\n",
            "The clean accuracy is: 98.64899974019225\n",
            "The attack success rate is: 100.0\n",
            "The pruned channel index is: 55\n"
          ]
        },
        {
          "output_type": "stream",
          "name": "stderr",
          "text": [
            " 37%|███▋      | 22/60 [01:12<02:03,  3.24s/it]"
          ]
        },
        {
          "output_type": "stream",
          "name": "stdout",
          "text": [
            "\n",
            "The clean accuracy is: 98.64899974019225\n",
            "The attack success rate is: 100.0\n",
            "The pruned channel index is: 40\n"
          ]
        },
        {
          "output_type": "stream",
          "name": "stderr",
          "text": [
            "\r 38%|███▊      | 23/60 [01:15<01:55,  3.11s/it]"
          ]
        },
        {
          "output_type": "stream",
          "name": "stdout",
          "text": [
            "\n",
            "The clean accuracy is: 98.64899974019225\n",
            "The attack success rate is: 100.0\n",
            "The pruned channel index is: 24\n"
          ]
        },
        {
          "output_type": "stream",
          "name": "stderr",
          "text": [
            "\r 40%|████      | 24/60 [01:18<01:52,  3.12s/it]"
          ]
        },
        {
          "output_type": "stream",
          "name": "stdout",
          "text": [
            "\n",
            "The clean accuracy is: 98.64899974019225\n",
            "The attack success rate is: 100.0\n",
            "The pruned channel index is: 59\n",
            "\n",
            "The clean accuracy is: 98.64899974019225\n",
            "The attack success rate is: 100.0\n",
            "The pruned channel index is: 9\n"
          ]
        },
        {
          "output_type": "stream",
          "name": "stderr",
          "text": [
            "\r 42%|████▏     | 25/60 [01:21<01:48,  3.11s/it]"
          ]
        },
        {
          "output_type": "stream",
          "name": "stdout",
          "text": [
            "\n",
            "The clean accuracy is: 98.64899974019225\n",
            "The attack success rate is: 100.0\n",
            "The pruned channel index is: 2\n"
          ]
        },
        {
          "output_type": "stream",
          "name": "stderr",
          "text": [
            " 45%|████▌     | 27/60 [01:28<01:45,  3.21s/it]"
          ]
        },
        {
          "output_type": "stream",
          "name": "stdout",
          "text": [
            "\n",
            "The clean accuracy is: 98.64899974019225\n",
            "The attack success rate is: 100.0\n",
            "The pruned channel index is: 12\n"
          ]
        },
        {
          "output_type": "stream",
          "name": "stderr",
          "text": [
            "\r 47%|████▋     | 28/60 [01:31<01:38,  3.08s/it]"
          ]
        },
        {
          "output_type": "stream",
          "name": "stdout",
          "text": [
            "\n",
            "The clean accuracy is: 98.64899974019225\n",
            "The attack success rate is: 100.0\n",
            "The pruned channel index is: 13\n"
          ]
        },
        {
          "output_type": "stream",
          "name": "stderr",
          "text": [
            "\r 48%|████▊     | 29/60 [01:34<01:33,  3.01s/it]"
          ]
        },
        {
          "output_type": "stream",
          "name": "stdout",
          "text": [
            "\n",
            "The clean accuracy is: 98.64899974019225\n",
            "The attack success rate is: 100.0\n",
            "The pruned channel index is: 17\n",
            "\n",
            "The clean accuracy is: 98.64899974019225\n",
            "The attack success rate is: 100.0\n",
            "The pruned channel index is: 14\n"
          ]
        },
        {
          "output_type": "stream",
          "name": "stderr",
          "text": [
            "\r 50%|█████     | 30/60 [01:37<01:30,  3.02s/it]"
          ]
        },
        {
          "output_type": "stream",
          "name": "stdout",
          "text": [
            "\n",
            "The clean accuracy is: 98.64899974019225\n",
            "The attack success rate is: 100.0\n",
            "The pruned channel index is: 15\n"
          ]
        },
        {
          "output_type": "stream",
          "name": "stderr",
          "text": [
            " 53%|█████▎    | 32/60 [01:44<01:31,  3.27s/it]"
          ]
        },
        {
          "output_type": "stream",
          "name": "stdout",
          "text": [
            "\n",
            "The clean accuracy is: 98.64899974019225\n",
            "The attack success rate is: 100.0\n",
            "The pruned channel index is: 23\n"
          ]
        },
        {
          "output_type": "stream",
          "name": "stderr",
          "text": [
            "\r 55%|█████▌    | 33/60 [01:47<01:24,  3.13s/it]"
          ]
        },
        {
          "output_type": "stream",
          "name": "stdout",
          "text": [
            "\n",
            "The clean accuracy is: 98.64899974019225\n",
            "The attack success rate is: 100.0\n",
            "The pruned channel index is: 6\n"
          ]
        },
        {
          "output_type": "stream",
          "name": "stderr",
          "text": [
            "\r 57%|█████▋    | 34/60 [01:49<01:18,  3.03s/it]"
          ]
        },
        {
          "output_type": "stream",
          "name": "stdout",
          "text": [
            "\n",
            "The clean accuracy is: 98.64033948211657\n",
            "The attack success rate is: 100.0\n",
            "The pruned channel index is: 51\n",
            "\n",
            "The clean accuracy is: 98.64033948211657\n",
            "The attack success rate is: 100.0\n",
            "The pruned channel index is: 32\n"
          ]
        },
        {
          "output_type": "stream",
          "name": "stderr",
          "text": [
            "\r 58%|█████▊    | 35/60 [01:52<01:16,  3.05s/it]"
          ]
        },
        {
          "output_type": "stream",
          "name": "stdout",
          "text": [
            "\n",
            "The clean accuracy is: 98.63167922404088\n",
            "The attack success rate is: 100.0\n",
            "The pruned channel index is: 22\n"
          ]
        },
        {
          "output_type": "stream",
          "name": "stderr",
          "text": [
            " 62%|██████▏   | 37/60 [01:59<01:13,  3.19s/it]"
          ]
        },
        {
          "output_type": "stream",
          "name": "stdout",
          "text": [
            "\n",
            "The clean accuracy is: 98.65765999826795\n",
            "The attack success rate is: 100.0\n",
            "The pruned channel index is: 21\n"
          ]
        },
        {
          "output_type": "stream",
          "name": "stderr",
          "text": [
            "\r 63%|██████▎   | 38/60 [02:02<01:07,  3.06s/it]"
          ]
        },
        {
          "output_type": "stream",
          "name": "stdout",
          "text": [
            "\n",
            "The clean accuracy is: 98.64899974019225\n",
            "The attack success rate is: 100.0\n",
            "The pruned channel index is: 20\n"
          ]
        },
        {
          "output_type": "stream",
          "name": "stderr",
          "text": [
            "\r 65%|██████▌   | 39/60 [02:05<01:02,  2.97s/it]"
          ]
        },
        {
          "output_type": "stream",
          "name": "stdout",
          "text": [
            "\n",
            "The clean accuracy is: 98.6056984498138\n",
            "The attack success rate is: 100.0\n",
            "The pruned channel index is: 19\n",
            "\n",
            "The clean accuracy is: 98.57105741751104\n",
            "The attack success rate is: 100.0\n",
            "The pruned channel index is: 43\n"
          ]
        },
        {
          "output_type": "stream",
          "name": "stderr",
          "text": [
            "\r 67%|██████▋   | 40/60 [02:08<00:59,  2.99s/it]"
          ]
        },
        {
          "output_type": "stream",
          "name": "stdout",
          "text": [
            "\n",
            "The clean accuracy is: 98.53641638520828\n",
            "The attack success rate is: 100.0\n",
            "The pruned channel index is: 58\n"
          ]
        },
        {
          "output_type": "stream",
          "name": "stderr",
          "text": [
            " 70%|███████   | 42/60 [02:15<00:57,  3.17s/it]"
          ]
        },
        {
          "output_type": "stream",
          "name": "stdout",
          "text": [
            "\n",
            "The clean accuracy is: 98.19000606218066\n",
            "The attack success rate is: 100.0\n",
            "The pruned channel index is: 3\n"
          ]
        },
        {
          "output_type": "stream",
          "name": "stderr",
          "text": [
            "\r 72%|███████▏  | 43/60 [02:17<00:51,  3.03s/it]"
          ]
        },
        {
          "output_type": "stream",
          "name": "stdout",
          "text": [
            "\n",
            "The clean accuracy is: 97.65307006148784\n",
            "The attack success rate is: 100.0\n",
            "The pruned channel index is: 42\n"
          ]
        },
        {
          "output_type": "stream",
          "name": "stderr",
          "text": [
            "\r 73%|███████▎  | 44/60 [02:20<00:47,  2.96s/it]"
          ]
        },
        {
          "output_type": "stream",
          "name": "stdout",
          "text": [
            "\n",
            "The clean accuracy is: 97.50584567420108\n",
            "The attack success rate is: 100.0\n",
            "The pruned channel index is: 1\n"
          ]
        },
        {
          "output_type": "stream",
          "name": "stderr",
          "text": [
            "WARNING:tensorflow:Compiled the loaded model, but the compiled metrics have yet to be built. `model.compile_metrics` will be empty until you train or evaluate the model.\n"
          ]
        },
        {
          "output_type": "stream",
          "name": "stdout",
          "text": [
            "The accuracy drops at least 2%, saved the model\n",
            "\n",
            "The clean accuracy is: 95.75647354291158\n",
            "The attack success rate is: 100.0\n",
            "The pruned channel index is: 29\n"
          ]
        },
        {
          "output_type": "stream",
          "name": "stderr",
          "text": [
            "\r 75%|███████▌  | 45/60 [02:23<00:44,  2.96s/it]"
          ]
        },
        {
          "output_type": "stream",
          "name": "stdout",
          "text": [
            "\n",
            "The clean accuracy is: 95.20221702606739\n",
            "The attack success rate is: 99.9913397419243\n",
            "The pruned channel index is: 16\n"
          ]
        },
        {
          "output_type": "stream",
          "name": "stderr",
          "text": [
            " 78%|███████▊  | 47/60 [02:30<00:41,  3.16s/it]"
          ]
        },
        {
          "output_type": "stream",
          "name": "stdout",
          "text": [
            "\n",
            "The clean accuracy is: 94.7172425738287\n",
            "The attack success rate is: 99.9913397419243\n",
            "The pruned channel index is: 56\n"
          ]
        },
        {
          "output_type": "stream",
          "name": "stderr",
          "text": [
            "WARNING:tensorflow:Compiled the loaded model, but the compiled metrics have yet to be built. `model.compile_metrics` will be empty until you train or evaluate the model.\n"
          ]
        },
        {
          "output_type": "stream",
          "name": "stdout",
          "text": [
            "The accuracy drops at least 4%, saved the model\n"
          ]
        },
        {
          "output_type": "stream",
          "name": "stderr",
          "text": [
            "\r 80%|████████  | 48/60 [02:33<00:36,  3.06s/it]"
          ]
        },
        {
          "output_type": "stream",
          "name": "stdout",
          "text": [
            "\n",
            "The clean accuracy is: 92.09318437689443\n",
            "The attack success rate is: 99.9913397419243\n",
            "The pruned channel index is: 46\n"
          ]
        },
        {
          "output_type": "stream",
          "name": "stderr",
          "text": [
            "\r 82%|████████▏ | 49/60 [02:35<00:32,  2.98s/it]"
          ]
        },
        {
          "output_type": "stream",
          "name": "stdout",
          "text": [
            "\n",
            "The clean accuracy is: 91.49562656967177\n",
            "The attack success rate is: 99.9913397419243\n",
            "The pruned channel index is: 5\n",
            "\n",
            "The clean accuracy is: 91.01931237550879\n",
            "The attack success rate is: 99.98267948384861\n",
            "The pruned channel index is: 8\n"
          ]
        },
        {
          "output_type": "stream",
          "name": "stderr",
          "text": [
            "\r 83%|████████▎ | 50/60 [02:38<00:29,  2.93s/it]"
          ]
        },
        {
          "output_type": "stream",
          "name": "stdout",
          "text": [
            "\n",
            "The clean accuracy is: 89.17467740538669\n",
            "The attack success rate is: 80.73958603966398\n",
            "The pruned channel index is: 11\n"
          ]
        },
        {
          "output_type": "stream",
          "name": "stderr",
          "text": [
            "\r 85%|████████▌ | 51/60 [02:42<00:28,  3.16s/it]WARNING:tensorflow:Compiled the loaded model, but the compiled metrics have yet to be built. `model.compile_metrics` will be empty until you train or evaluate the model.\n"
          ]
        },
        {
          "output_type": "stream",
          "name": "stdout",
          "text": [
            "The accuracy drops at least 10%, saved the model\n"
          ]
        },
        {
          "output_type": "stream",
          "name": "stderr",
          "text": [
            "\r 87%|████████▋ | 52/60 [02:45<00:25,  3.17s/it]"
          ]
        },
        {
          "output_type": "stream",
          "name": "stdout",
          "text": [
            "\n",
            "The clean accuracy is: 84.43751623798389\n",
            "The attack success rate is: 77.015675067117\n",
            "The pruned channel index is: 54\n"
          ]
        },
        {
          "output_type": "stream",
          "name": "stderr",
          "text": [
            "\r 88%|████████▊ | 53/60 [02:48<00:21,  3.07s/it]"
          ]
        },
        {
          "output_type": "stream",
          "name": "stdout",
          "text": [
            "\n",
            "The clean accuracy is: 76.48739932449988\n",
            "The attack success rate is: 35.71490430414826\n",
            "The pruned channel index is: 10\n"
          ]
        },
        {
          "output_type": "stream",
          "name": "stderr",
          "text": [
            "\r 90%|█████████ | 54/60 [02:51<00:17,  2.97s/it]"
          ]
        },
        {
          "output_type": "stream",
          "name": "stdout",
          "text": [
            "\n",
            "The clean accuracy is: 54.8627349095003\n",
            "The attack success rate is: 6.954187234779596\n",
            "The pruned channel index is: 28\n"
          ]
        },
        {
          "output_type": "stream",
          "name": "stderr",
          "text": [
            "\r 92%|█████████▏| 55/60 [02:53<00:14,  2.89s/it]"
          ]
        },
        {
          "output_type": "stream",
          "name": "stdout",
          "text": [
            "\n",
            "The clean accuracy is: 27.08928726076037\n",
            "The attack success rate is: 0.4243526457088421\n",
            "The pruned channel index is: 35\n",
            "\n",
            "The clean accuracy is: 13.87373343725643\n",
            "The attack success rate is: 0.0\n",
            "The pruned channel index is: 18\n"
          ]
        },
        {
          "output_type": "stream",
          "name": "stderr",
          "text": [
            " 95%|█████████▌| 57/60 [03:01<00:09,  3.19s/it]"
          ]
        },
        {
          "output_type": "stream",
          "name": "stdout",
          "text": [
            "\n",
            "The clean accuracy is: 7.101411622066338\n",
            "The attack success rate is: 0.0\n",
            "The pruned channel index is: 4\n"
          ]
        },
        {
          "output_type": "stream",
          "name": "stderr",
          "text": [
            "\r 97%|█████████▋| 58/60 [03:03<00:06,  3.05s/it]"
          ]
        },
        {
          "output_type": "stream",
          "name": "stdout",
          "text": [
            "\n",
            "The clean accuracy is: 1.5501861955486274\n",
            "The attack success rate is: 0.0\n",
            "The pruned channel index is: 7\n"
          ]
        },
        {
          "output_type": "stream",
          "name": "stderr",
          "text": [
            "\r 98%|█████████▊| 59/60 [03:06<00:02,  2.95s/it]"
          ]
        },
        {
          "output_type": "stream",
          "name": "stdout",
          "text": [
            "\n",
            "The clean accuracy is: 0.7188014202823244\n",
            "The attack success rate is: 0.0\n",
            "The pruned channel index is: 52\n"
          ]
        },
        {
          "output_type": "stream",
          "name": "stderr",
          "text": [
            "100%|██████████| 60/60 [03:09<00:00,  3.15s/it]"
          ]
        },
        {
          "output_type": "stream",
          "name": "stdout",
          "text": [
            "\n",
            "The clean accuracy is: 0.0779423226812159\n",
            "The attack success rate is: 0.0\n",
            "The pruned channel index is: 57\n"
          ]
        },
        {
          "output_type": "stream",
          "name": "stderr",
          "text": [
            "\n"
          ]
        }
      ]
    },
    {
      "cell_type": "markdown",
      "source": [
        "**NOTE:** It's apparent that the defense strategy isn't very effective, as it results in a compromise of accuracy."
      ],
      "metadata": {
        "id": "27sbljLPkjFH"
      }
    },
    {
      "cell_type": "code",
      "source": [
        "print(\"clean_accuracy: \", clean_acc)\n",
        "print(\"attack success rate: \", asrate)"
      ],
      "metadata": {
        "id": "vUBPwn0Lubn8",
        "colab": {
          "base_uri": "https://localhost:8080/"
        },
        "outputId": "d27da65f-9102-44bc-9736-a06057c53d06"
      },
      "execution_count": 16,
      "outputs": [
        {
          "output_type": "stream",
          "name": "stdout",
          "text": [
            "clean_accuracy:  [98.64899974019225, 98.64899974019225, 98.64899974019225, 98.64899974019225, 98.64899974019225, 98.64899974019225, 98.64899974019225, 98.64899974019225, 98.64899974019225, 98.64899974019225, 98.64899974019225, 98.64899974019225, 98.64899974019225, 98.64899974019225, 98.64899974019225, 98.64899974019225, 98.64899974019225, 98.64899974019225, 98.64899974019225, 98.64899974019225, 98.64899974019225, 98.64899974019225, 98.64899974019225, 98.64899974019225, 98.64899974019225, 98.64899974019225, 98.64899974019225, 98.64899974019225, 98.64899974019225, 98.64899974019225, 98.64899974019225, 98.64899974019225, 98.64899974019225, 98.64033948211657, 98.64033948211657, 98.63167922404088, 98.65765999826795, 98.64899974019225, 98.6056984498138, 98.57105741751104, 98.53641638520828, 98.19000606218066, 97.65307006148784, 97.50584567420108, 95.75647354291158, 95.20221702606739, 94.7172425738287, 92.09318437689443, 91.49562656967177, 91.01931237550879, 89.17467740538669, 84.43751623798389, 76.48739932449988, 54.8627349095003, 27.08928726076037, 13.87373343725643, 7.101411622066338, 1.5501861955486274, 0.7188014202823244, 0.0779423226812159]\n",
            "attack success rate:  [100.0, 100.0, 100.0, 100.0, 100.0, 100.0, 100.0, 100.0, 100.0, 100.0, 100.0, 100.0, 100.0, 100.0, 100.0, 100.0, 100.0, 100.0, 100.0, 100.0, 100.0, 100.0, 100.0, 100.0, 100.0, 100.0, 100.0, 100.0, 100.0, 100.0, 100.0, 100.0, 100.0, 100.0, 100.0, 100.0, 100.0, 100.0, 100.0, 100.0, 100.0, 100.0, 100.0, 100.0, 100.0, 99.9913397419243, 99.9913397419243, 99.9913397419243, 99.9913397419243, 99.98267948384861, 80.73958603966398, 77.015675067117, 35.71490430414826, 6.954187234779596, 0.4243526457088421, 0.0, 0.0, 0.0, 0.0, 0.0]\n"
          ]
        }
      ]
    },
    {
      "cell_type": "code",
      "source": [
        "#Plotting the accuracy and attack success rate for the validation dataset\n",
        "x_axis = np.arange(1,61)/60\n",
        "plt.plot(x_axis,clean_acc)\n",
        "plt.plot(x_axis,asrate)\n",
        "plt.legend(['clean_accuracy','attack success rate'])\n",
        "plt.xlabel(\"fraction of pruned channels\")\n",
        "plt.ylabel(\"rate\")\n",
        "plt.title(\"accuracy and attack success rate for validation dataset\")"
      ],
      "metadata": {
        "id": "06DL1vGAeKUX",
        "colab": {
          "base_uri": "https://localhost:8080/",
          "height": 490
        },
        "outputId": "5bb144bf-fd22-432d-9549-20073fffa113"
      },
      "execution_count": 17,
      "outputs": [
        {
          "output_type": "execute_result",
          "data": {
            "text/plain": [
              "Text(0.5, 1.0, 'accuracy and attack success rate for validation dataset')"
            ]
          },
          "metadata": {},
          "execution_count": 17
        },
        {
          "output_type": "display_data",
          "data": {
            "text/plain": [
              "<Figure size 640x480 with 1 Axes>"
            ],
            "image/png": "[encoded data removed]"
          },
          "metadata": {}
        }
      ]
    },
    {
      "cell_type": "code",
      "source": [
        "index = np.where(np.array(clean_acc) <= (clean_data_acc-30))[0]\n",
        "print(\"The attack success rate when the accuracy drops at least 30%: \", asrate[index[0]])"
      ],
      "metadata": {
        "id": "wkPnRDg1iIXR",
        "colab": {
          "base_uri": "https://localhost:8080/"
        },
        "outputId": "d428a850-45b8-4e9d-a064-c47468e542fb"
      },
      "execution_count": 18,
      "outputs": [
        {
          "output_type": "stream",
          "name": "stdout",
          "text": [
            "The attack success rate when the accuracy drops at least 30%:  6.954187234779596\n"
          ]
        }
      ]
    },
    {
      "cell_type": "markdown",
      "source": [
        "## Combining the models\n",
        "\n",
        "Here we combine two models which are $B$ (original badnet model) and $B'$ (pruned model). The combined model is the *goodnet*. If the preditions from $B$ and $B'$ are the same then the *goodnet* will output the predition."
      ],
      "metadata": {
        "id": "sCfsP5nZmT5Q"
      }
    },
    {
      "cell_type": "code",
      "source": [
        "class G(keras.Model):\n",
        "    # Constructor method with initialization\n",
        "    def __init__(self, B, B_prime):\n",
        "        super(G, self).__init__()\n",
        "        # Initialize two model attributes, B and B_prime, with the provided models\n",
        "        self.B = B\n",
        "        self.B_prime = B_prime\n",
        "\n",
        "    # Method for making predictions with the good model\n",
        "    def predict(self, data):\n",
        "        y = np.argmax(self.B(data), axis=1) # Predict the class labels using model B and select the class with the highest probability\n",
        "        y_prime = np.argmax(self.B_prime(data), axis=1) # Predict the class labels using model B_prime in a similar way\n",
        "\n",
        "        # Initialize an array to hold the final predictions\n",
        "        pred = np.zeros(data.shape[0])\n",
        "\n",
        "        # Iterate over each prediction\n",
        "        for i in range(data.shape[0]):\n",
        "            # If the predictions from both models match, use this prediction\n",
        "            if y[i] == y_prime[i]:\n",
        "                pred[i] = y[i]\n",
        "            # If the predictions differ, assign a default class label (e.g., 1283)\n",
        "            else:\n",
        "                pred[i] = 1283\n",
        "\n",
        "        # Return the final prediction array\n",
        "        return pred\n"
      ],
      "metadata": {
        "id": "6E00xt5RiwVi"
      },
      "execution_count": 19,
      "outputs": []
    },
    {
      "cell_type": "markdown",
      "source": [
        "## Evaluate the combined model"
      ],
      "metadata": {
        "id": "1VzGeAwDrZu2"
      }
    },
    {
      "cell_type": "code",
      "source": [
        "test_data_filename = '/content/drive/MyDrive/lab3/data/cl/test.h5'\n",
        "poisoned_test_data_filename = '/content/drive/MyDrive/lab3/data/bd/bd_test.h5'\n",
        "test_model_X_2_filename = '/content/model_X=2.h5'\n",
        "test_model_X_4_filename = '/content/model_X=4.h5'\n",
        "test_model_X_10_filename = '/content/model_X=10.h5'"
      ],
      "metadata": {
        "id": "lC0cTvx4rdHP"
      },
      "execution_count": 20,
      "outputs": []
    },
    {
      "cell_type": "code",
      "source": [
        "test_model_X_2 = keras.models.load_model(test_model_X_2_filename)\n",
        "test_model_X_4 = keras.models.load_model(test_model_X_4_filename)\n",
        "test_model_X_10 = keras.models.load_model(test_model_X_10_filename)"
      ],
      "metadata": {
        "id": "HBbWyybw_D3Z",
        "colab": {
          "base_uri": "https://localhost:8080/"
        },
        "outputId": "ffdfc792-a17b-4941-b931-a0ce0f32a386"
      },
      "execution_count": 21,
      "outputs": [
        {
          "output_type": "stream",
          "name": "stderr",
          "text": [
            "WARNING:tensorflow:No training configuration found in the save file, so the model was *not* compiled. Compile it manually.\n",
            "WARNING:tensorflow:No training configuration found in the save file, so the model was *not* compiled. Compile it manually.\n",
            "WARNING:tensorflow:No training configuration found in the save file, so the model was *not* compiled. Compile it manually.\n"
          ]
        }
      ]
    },
    {
      "cell_type": "code",
      "source": [
        "# Loading the data and displaying the shape\n",
        "x_test_data, y_test_data = data_loader(test_data_filename)\n",
        "x_test_poisoned_data, y_test_poisnoed_data = data_loader(poisoned_test_data_filename)"
      ],
      "metadata": {
        "id": "cfIBhRFb_IkB"
      },
      "execution_count": 22,
      "outputs": []
    },
    {
      "cell_type": "code",
      "source": [
        "print(\"x_test_data shape: \",x_test_data.shape)\n",
        "print(\"x_test_poisoned data shape: \",x_test_poisoned_data.shape)"
      ],
      "metadata": {
        "id": "Vl9gm6Uy_rHz",
        "colab": {
          "base_uri": "https://localhost:8080/"
        },
        "outputId": "e762e295-d4ef-4477-bee9-b7ace8678738"
      },
      "execution_count": 23,
      "outputs": [
        {
          "output_type": "stream",
          "name": "stdout",
          "text": [
            "x_test_data shape:  (12830, 55, 47, 3)\n",
            "x_test_poisoned data shape:  (12830, 55, 47, 3)\n"
          ]
        }
      ]
    },
    {
      "cell_type": "code",
      "source": [
        "G_model_X_2 = G(model, test_model_X_2)\n",
        "G_model_X_4 = G(model, test_model_X_4)\n",
        "G_model_X_10 = G(model, test_model_X_10)"
      ],
      "metadata": {
        "id": "7BKLN0LRG38W"
      },
      "execution_count": 24,
      "outputs": []
    },
    {
      "cell_type": "markdown",
      "source": [
        "### Evaluating model on the test dataset"
      ],
      "metadata": {
        "id": "i09cmgaSKErk"
      }
    },
    {
      "cell_type": "code",
      "source": [
        "# Predicting labels for clean test data using the model saved after 2% accuracy drop\n",
        "cl_test_2_label_p = np.argmax(test_model_X_2.predict(x_test_data), axis=1)\n",
        "# Calculating the classification accuracy for clean test data\n",
        "clean_test_2_accuracy = np.mean(np.equal(cl_test_2_label_p, y_test_data)) * 100\n",
        "# Printing the accuracy for the model with a 2% accuracy drop\n",
        "print('2% drops model, the clean test data Classification accuracy:', clean_test_2_accuracy)\n",
        "\n",
        "# Predicting labels for poisoned test data using the same model\n",
        "bd_test_2_label_p = np.argmax(test_model_X_2.predict(x_test_poisoned_data), axis=1)\n",
        "# Calculating the attack success rate for the poisoned data\n",
        "asr_2 = np.mean(np.equal(bd_test_2_label_p, y_test_poisnoed_data)) * 100\n",
        "# Printing the attack success rate for the 2% accuracy drop model\n",
        "print('2% drops model, Attack Success Rate:', asr_2)\n",
        "\n",
        "# Repeating the process for the model saved after a 4% accuracy drop\n",
        "cl_test_4_label_p = np.argmax(test_model_X_4.predict(x_test_data), axis=1)\n",
        "clean_test_4_accuracy = np.mean(np.equal(cl_test_4_label_p, y_test_data)) * 100\n",
        "print('4% drops model, the clean test data classification accuracy:', clean_test_4_accuracy)\n",
        "\n",
        "bd_test_4_label_p = np.argmax(test_model_X_4.predict(x_test_poisoned_data), axis=1)\n",
        "asr_4 = np.mean(np.equal(bd_test_4_label_p, y_test_poisnoed_data)) * 100\n",
        "print('4% drops model, Attack Success Rate:', asr_4)\n",
        "\n",
        "# Repeating the process for the model saved after a 10% accuracy drop\n",
        "cl_test_10_label_p = np.argmax(test_model_X_10.predict(x_test_data), axis=1)\n",
        "clean_test_10_accuracy = np.mean(np.equal(cl_test_10_label_p, y_test_data)) * 100\n",
        "print('10% drops model, the clean test data classification accuracy:', clean_test_10_accuracy)\n",
        "\n",
        "bd_test_10_label_p = np.argmax(test_model_X_10.predict(x_test_poisoned_data), axis=1)\n",
        "asr_10 = np.mean(np.equal(bd_test_10_label_p, y_test_poisnoed_data)) * 100\n",
        "print('10% drops model, Attack Success Rate:', asr_10)\n"
      ],
      "metadata": {
        "id": "gYOBO0IJGQ0b",
        "colab": {
          "base_uri": "https://localhost:8080/"
        },
        "outputId": "640bea9c-0160-49af-f31e-123392e87f1a"
      },
      "execution_count": 25,
      "outputs": [
        {
          "output_type": "stream",
          "name": "stdout",
          "text": [
            "401/401 [==============================] - 1s 3ms/step\n",
            "2% drops model, the clean test data Classification accuracy: 95.90023382696803\n",
            "401/401 [==============================] - 1s 2ms/step\n",
            "2% drops model, Attack Success Rate: 100.0\n",
            "401/401 [==============================] - 1s 2ms/step\n",
            "4% drops model, the clean test data classification accuracy: 92.29150428682775\n",
            "401/401 [==============================] - 1s 2ms/step\n",
            "4% drops model, Attack Success Rate: 99.98441153546376\n",
            "401/401 [==============================] - 1s 2ms/step\n",
            "10% drops model, the clean test data classification accuracy: 84.54403741231489\n",
            "401/401 [==============================] - 1s 2ms/step\n",
            "10% drops model, Attack Success Rate: 77.20966484801247\n"
          ]
        }
      ]
    },
    {
      "cell_type": "markdown",
      "source": [
        "### Summary of the fixed models"
      ],
      "metadata": {
        "id": "tixKME3KO1EC"
      }
    },
    {
      "cell_type": "code",
      "source": [
        "# Creating a list of test accuracies for different models\n",
        "test_acc = [clean_test_2_accuracy, clean_test_4_accuracy, clean_test_10_accuracy]\n",
        "\n",
        "# Creating a list of attack success rates for the same models\n",
        "attack_rate = [asr_2, asr_4, asr_10]\n",
        "\n",
        "# Constructing a dictionary to organize the data\n",
        "data = {\n",
        "    \"test_acc\": test_acc,          # Test accuracy for each model\n",
        "    \"attack_rate\": attack_rate,    # Attack success rate for each model\n",
        "    \"model\": [\"repaired_2%\", \"repaired_4%\", \"repaired_10%\"]  # Model identifiers\n",
        "}\n",
        "\n",
        "# Creating a DataFrame from the dictionary\n",
        "df = pd.DataFrame(data)\n",
        "\n",
        "# Setting the 'model' column as the index of the DataFrame\n",
        "df.set_index('model')\n"
      ],
      "metadata": {
        "id": "Q3cmQ_UKOmcU",
        "colab": {
          "base_uri": "https://localhost:8080/",
          "height": 175
        },
        "outputId": "5de8b305-7fd1-4764-b335-5a89ea518a46"
      },
      "execution_count": 26,
      "outputs": [
        {
          "output_type": "execute_result",
          "data": {
            "text/plain": [
              "               test_acc  attack_rate\n",
              "model                               \n",
              "repaired_2%   95.900234   100.000000\n",
              "repaired_4%   92.291504    99.984412\n",
              "repaired_10%  84.544037    77.209665"
            ],
            "text/html": [
              "\n",
              "  <div id=\"df-74de3033-10dd-4f95-9f5f-d9b49a75b6c2\" class=\"colab-df-container\">\n",
              "    <div>\n",
              "<style scoped>\n",
              "    .dataframe tbody tr th:only-of-type {\n",
              "        vertical-align: middle;\n",
              "    }\n",
              "\n",
              "    .dataframe tbody tr th {\n",
              "        vertical-align: top;\n",
              "    }\n",
              "\n",
              "    .dataframe thead th {\n",
              "        text-align: right;\n",
              "    }\n",
              "</style>\n",
              "<table border=\"1\" class=\"dataframe\">\n",
              "  <thead>\n",
              "    <tr style=\"text-align: right;\">\n",
              "      <th></th>\n",
              "      <th>test_acc</th>\n",
              "      <th>attack_rate</th>\n",
              "    </tr>\n",
              "    <tr>\n",
              "      <th>model</th>\n",
              "      <th></th>\n",
              "      <th></th>\n",
              "    </tr>\n",
              "  </thead>\n",
              "  <tbody>\n",
              "    <tr>\n",
              "      <th>repaired_2%</th>\n",
              "      <td>95.900234</td>\n",
              "      <td>100.000000</td>\n",
              "    </tr>\n",
              "    <tr>\n",
              "      <th>repaired_4%</th>\n",
              "      <td>92.291504</td>\n",
              "      <td>99.984412</td>\n",
              "    </tr>\n",
              "    <tr>\n",
              "      <th>repaired_10%</th>\n",
              "      <td>84.544037</td>\n",
              "      <td>77.209665</td>\n",
              "    </tr>\n",
              "  </tbody>\n",
              "</table>\n",
              "</div>\n",
              "    <div class=\"colab-df-buttons\">\n",
              "\n",
              "  <div class=\"colab-df-container\">\n",
              "    <button class=\"colab-df-convert\" onclick=\"convertToInteractive('df-74de3033-10dd-4f95-9f5f-d9b49a75b6c2')\"\n",
              "            title=\"Convert this dataframe to an interactive table.\"\n",
              "            style=\"display:none;\">\n",
              "\n",
              "  <svg xmlns=\"http://www.w3.org/2000/svg\" height=\"24px\" viewBox=\"0 -960 960 960\">\n",
              "    <path d=\"M120-120v-720h720v720H120Zm60-500h600v-160H180v160Zm220 220h160v-160H400v160Zm0 220h160v-160H400v160ZM180-400h160v-160H180v160Zm440 0h160v-160H620v160ZM180-180h160v-160H180v160Zm440 0h160v-160H620v160Z\"/>\n",
              "  </svg>\n",
              "    </button>\n",
              "\n",
              "  <style>\n",
              "    .colab-df-container {\n",
              "      display:flex;\n",
              "      gap: 12px;\n",
              "    }\n",
              "\n",
              "    .colab-df-convert {\n",
              "      background-color: #E8F0FE;\n",
              "      border: none;\n",
              "      border-radius: 50%;\n",
              "      cursor: pointer;\n",
              "      display: none;\n",
              "      fill: #1967D2;\n",
              "      height: 32px;\n",
              "      padding: 0 0 0 0;\n",
              "      width: 32px;\n",
              "    }\n",
              "\n",
              "    .colab-df-convert:hover {\n",
              "      background-color: #E2EBFA;\n",
              "      box-shadow: 0px 1px 2px rgba(60, 64, 67, 0.3), 0px 1px 3px 1px rgba(60, 64, 67, 0.15);\n",
              "      fill: #174EA6;\n",
              "    }\n",
              "\n",
              "    .colab-df-buttons div {\n",
              "      margin-bottom: 4px;\n",
              "    }\n",
              "\n",
              "    [theme=dark] .colab-df-convert {\n",
              "      background-color: #3B4455;\n",
              "      fill: #D2E3FC;\n",
              "    }\n",
              "\n",
              "    [theme=dark] .colab-df-convert:hover {\n",
              "      background-color: #434B5C;\n",
              "      box-shadow: 0px 1px 3px 1px rgba(0, 0, 0, 0.15);\n",
              "      filter: drop-shadow(0px 1px 2px rgba(0, 0, 0, 0.3));\n",
              "      fill: #FFFFFF;\n",
              "    }\n",
              "  </style>\n",
              "\n",
              "    <script>\n",
              "      const buttonEl =\n",
              "        document.querySelector('#df-74de3033-10dd-4f95-9f5f-d9b49a75b6c2 button.colab-df-convert');\n",
              "      buttonEl.style.display =\n",
              "        google.colab.kernel.accessAllowed ? 'block' : 'none';\n",
              "\n",
              "      async function convertToInteractive(key) {\n",
              "        const element = document.querySelector('#df-74de3033-10dd-4f95-9f5f-d9b49a75b6c2');\n",
              "        const dataTable =\n",
              "          await google.colab.kernel.invokeFunction('convertToInteractive',\n",
              "                                                    [key], {});\n",
              "        if (!dataTable) return;\n",
              "\n",
              "        const docLinkHtml = 'Like what you see? Visit the ' +\n",
              "          '<a target=\"_blank\" href=https://colab.research.google.com/notebooks/data_table.ipynb>data table notebook</a>'\n",
              "          + ' to learn more about interactive tables.';\n",
              "        element.innerHTML = '';\n",
              "        dataTable['output_type'] = 'display_data';\n",
              "        await google.colab.output.renderOutput(dataTable, element);\n",
              "        const docLink = document.createElement('div');\n",
              "        docLink.innerHTML = docLinkHtml;\n",
              "        element.appendChild(docLink);\n",
              "      }\n",
              "    </script>\n",
              "  </div>\n",
              "\n",
              "\n",
              "<div id=\"df-49e33220-9e1c-41b5-a481-eaf70d6a8b00\">\n",
              "  <button class=\"colab-df-quickchart\" onclick=\"quickchart('df-49e33220-9e1c-41b5-a481-eaf70d6a8b00')\"\n",
              "            title=\"Suggest charts\"\n",
              "            style=\"display:none;\">\n",
              "\n",
              "<svg xmlns=\"http://www.w3.org/2000/svg\" height=\"24px\"viewBox=\"0 0 24 24\"\n",
              "     width=\"24px\">\n",
              "    <g>\n",
              "        <path d=\"M19 3H5c-1.1 0-2 .9-2 2v14c0 1.1.9 2 2 2h14c1.1 0 2-.9 2-2V5c0-1.1-.9-2-2-2zM9 17H7v-7h2v7zm4 0h-2V7h2v10zm4 0h-2v-4h2v4z\"/>\n",
              "    </g>\n",
              "</svg>\n",
              "  </button>\n",
              "\n",
              "<style>\n",
              "  .colab-df-quickchart {\n",
              "      --bg-color: #E8F0FE;\n",
              "      --fill-color: #1967D2;\n",
              "      --hover-bg-color: #E2EBFA;\n",
              "      --hover-fill-color: #174EA6;\n",
              "      --disabled-fill-color: #AAA;\n",
              "      --disabled-bg-color: #DDD;\n",
              "  }\n",
              "\n",
              "  [theme=dark] .colab-df-quickchart {\n",
              "      --bg-color: #3B4455;\n",
              "      --fill-color: #D2E3FC;\n",
              "      --hover-bg-color: #434B5C;\n",
              "      --hover-fill-color: #FFFFFF;\n",
              "      --disabled-bg-color: #3B4455;\n",
              "      --disabled-fill-color: #666;\n",
              "  }\n",
              "\n",
              "  .colab-df-quickchart {\n",
              "    background-color: var(--bg-color);\n",
              "    border: none;\n",
              "    border-radius: 50%;\n",
              "    cursor: pointer;\n",
              "    display: none;\n",
              "    fill: var(--fill-color);\n",
              "    height: 32px;\n",
              "    padding: 0;\n",
              "    width: 32px;\n",
              "  }\n",
              "\n",
              "  .colab-df-quickchart:hover {\n",
              "    background-color: var(--hover-bg-color);\n",
              "    box-shadow: 0 1px 2px rgba(60, 64, 67, 0.3), 0 1px 3px 1px rgba(60, 64, 67, 0.15);\n",
              "    fill: var(--button-hover-fill-color);\n",
              "  }\n",
              "\n",
              "  .colab-df-quickchart-complete:disabled,\n",
              "  .colab-df-quickchart-complete:disabled:hover {\n",
              "    background-color: var(--disabled-bg-color);\n",
              "    fill: var(--disabled-fill-color);\n",
              "    box-shadow: none;\n",
              "  }\n",
              "\n",
              "  .colab-df-spinner {\n",
              "    border: 2px solid var(--fill-color);\n",
              "    border-color: transparent;\n",
              "    border-bottom-color: var(--fill-color);\n",
              "    animation:\n",
              "      spin 1s steps(1) infinite;\n",
              "  }\n",
              "\n",
              "  @keyframes spin {\n",
              "    0% {\n",
              "      border-color: transparent;\n",
              "      border-bottom-color: var(--fill-color);\n",
              "      border-left-color: var(--fill-color);\n",
              "    }\n",
              "    20% {\n",
              "      border-color: transparent;\n",
              "      border-left-color: var(--fill-color);\n",
              "      border-top-color: var(--fill-color);\n",
              "    }\n",
              "    30% {\n",
              "      border-color: transparent;\n",
              "      border-left-color: var(--fill-color);\n",
              "      border-top-color: var(--fill-color);\n",
              "      border-right-color: var(--fill-color);\n",
              "    }\n",
              "    40% {\n",
              "      border-color: transparent;\n",
              "      border-right-color: var(--fill-color);\n",
              "      border-top-color: var(--fill-color);\n",
              "    }\n",
              "    60% {\n",
              "      border-color: transparent;\n",
              "      border-right-color: var(--fill-color);\n",
              "    }\n",
              "    80% {\n",
              "      border-color: transparent;\n",
              "      border-right-color: var(--fill-color);\n",
              "      border-bottom-color: var(--fill-color);\n",
              "    }\n",
              "    90% {\n",
              "      border-color: transparent;\n",
              "      border-bottom-color: var(--fill-color);\n",
              "    }\n",
              "  }\n",
              "</style>\n",
              "\n",
              "  <script>\n",
              "    async function quickchart(key) {\n",
              "      const quickchartButtonEl =\n",
              "        document.querySelector('#' + key + ' button');\n",
              "      quickchartButtonEl.disabled = true;  // To prevent multiple clicks.\n",
              "      quickchartButtonEl.classList.add('colab-df-spinner');\n",
              "      try {\n",
              "        const charts = await google.colab.kernel.invokeFunction(\n",
              "            'suggestCharts', [key], {});\n",
              "      } catch (error) {\n",
              "        console.error('Error during call to suggestCharts:', error);\n",
              "      }\n",
              "      quickchartButtonEl.classList.remove('colab-df-spinner');\n",
              "      quickchartButtonEl.classList.add('colab-df-quickchart-complete');\n",
              "    }\n",
              "    (() => {\n",
              "      let quickchartButtonEl =\n",
              "        document.querySelector('#df-49e33220-9e1c-41b5-a481-eaf70d6a8b00 button');\n",
              "      quickchartButtonEl.style.display =\n",
              "        google.colab.kernel.accessAllowed ? 'block' : 'none';\n",
              "    })();\n",
              "  </script>\n",
              "</div>\n",
              "    </div>\n",
              "  </div>\n"
            ]
          },
          "metadata": {},
          "execution_count": 26
        }
      ]
    },
    {
      "cell_type": "code",
      "source": [
        "# Setting the opacity and bar width for the bars in the bar chart\n",
        "opacity = 0.4\n",
        "bar_width = 0.35\n",
        "\n",
        "# Set the label for the x and y axis\n",
        "plt.xlabel('% drops model')\n",
        "plt.ylabel('Rate')\n",
        "\n",
        "# Set the x-ticks (positions) and labels (2%, 4%, 10%) on the x-axis\n",
        "plt.xticks(range(len(test_acc)), ('2%', '4%', '10%'))\n",
        "\n",
        "# Plotting the first set of bars (test accuracy) and second set of bars (attack rate)\n",
        "bar1 = plt.bar(np.arange(len(test_acc)) + bar_width, test_acc, bar_width, align='center', alpha=opacity, color='b', label='accuracy')\n",
        "bar2 = plt.bar(range(len(attack_rate)), attack_rate, bar_width, align='center', alpha=opacity, color='r', label='attack rate')\n",
        "\n",
        "# Loop to add text labels above each bar, indicating the height (value) of the bar\n",
        "for rect in bar1 + bar2:\n",
        "    height = rect.get_height()\n",
        "    plt.text(rect.get_x() + rect.get_width() / 2.0, height, f'{height:.02f}', ha='center', va='bottom')\n",
        "\n",
        "# Adding details for the plot\n",
        "plt.legend(bbox_to_anchor=(1.4, 1))\n",
        "plt.tight_layout()\n",
        "plt.title('Performance of Repaired Model')\n",
        "\n",
        "# Remove the top and right spines for a cleaner look using seaborn's despine\n",
        "sns.despine()\n",
        "\n",
        "# Displaying the plot\n",
        "plt.show()\n"
      ],
      "metadata": {
        "id": "hR7rVgurREls",
        "colab": {
          "base_uri": "https://localhost:8080/",
          "height": 509
        },
        "outputId": "5ed29384-b296-44ed-c396-8d326072c825"
      },
      "execution_count": 27,
      "outputs": [
        {
          "output_type": "display_data",
          "data": {
            "text/plain": [
              "<Figure size 640x480 with 1 Axes>"
            ],
            "image/png": "[encoded data removed]"
          },
          "metadata": {}
        }
      ]
    },
    {
      "cell_type": "markdown",
      "source": [
        "These 'goodnets' represent a combination of the original badnet and the corrected or 'repaired' model."
      ],
      "metadata": {
        "id": "vxOjhRmxpWtg"
      }
    },
    {
      "cell_type": "code",
      "source": [
        "# Use the combined model with 2% drop to predict labels for clean test data\n",
        "G_cl_test_2_label_p = G_model_X_2.predict(x_test_data)\n",
        "# Calculate and print the classification accuracy on clean test data for the 2% drop model\n",
        "G_clean_test_2_accuracy = np.mean(np.equal(cl_test_2_label_p, y_test_data)) * 100\n",
        "print('Combined 2% drops model, the clean test data Classification accuracy:', G_clean_test_2_accuracy)\n",
        "\n",
        "# Use the same model to predict labels for poisoned test data\n",
        "G_bd_test_2_label_p = G_model_X_2.predict(x_test_poisoned_data)\n",
        "# Calculate and print the attack success rate on poisoned data for the 2% drop model\n",
        "G_asr_2 = np.mean(np.equal(bd_test_2_label_p, y_test_poisnoed_data)) * 100\n",
        "print('Combined 2% drops model, Attack Success Rate:', G_asr_2)\n",
        "\n",
        "# Repeat the process for the combined model with 4% drop\n",
        "G_cl_test_4_label_p = G_model_X_4.predict(x_test_data)\n",
        "G_clean_test_4_accuracy = np.mean(np.equal(cl_test_4_label_p, y_test_data)) * 100\n",
        "print('Combined 4% drops model, the clean test data Classification accuracy:', G_clean_test_4_accuracy)\n",
        "\n",
        "G_bd_test_4_label_p = G_model_X_4.predict(x_test_poisoned_data)\n",
        "G_asr_4 = np.mean(np.equal(bd_test_4_label_p, y_test_poisnoed_data)) * 100\n",
        "print('Combined 4% drops model, Attack Success Rate:', G_asr_4)\n",
        "\n",
        "# Repeat the process for the combined model with 10% drop\n",
        "G_cl_test_10_label_p = G_model_X_10.predict(x_test_data)\n",
        "G_clean_test_10_accuracy = np.mean(np.equal(cl_test_10_label_p, y_test_data)) * 100\n",
        "print('Combined 10% drops model, the clean test data Classification accuracy:', G_clean_test_10_accuracy)\n",
        "\n",
        "G_bd_test_10_label_p = G_model_X_10.predict(x_test_poisoned_data)\n",
        "G_asr_10 = np.mean(np.equal(bd_test_10_label_p, y_test_poisnoed_data)) * 100\n",
        "print('Combined 10% drops model, Attack Success Rate:', G_asr_10)\n"
      ],
      "metadata": {
        "id": "98mQEY9Eogew",
        "colab": {
          "base_uri": "https://localhost:8080/"
        },
        "outputId": "b5b4b439-d18f-4c34-defb-0bce92c0c831"
      },
      "execution_count": 28,
      "outputs": [
        {
          "output_type": "stream",
          "name": "stdout",
          "text": [
            "Combined 2% drops model, the clean test data Classification accuracy: 95.90023382696803\n",
            "Combined 2% drops model, Attack Success Rate: 100.0\n",
            "Combined 4% drops model, the clean test data Classification accuracy: 92.29150428682775\n",
            "Combined 4% drops model, Attack Success Rate: 99.98441153546376\n",
            "Combined 10% drops model, the clean test data Classification accuracy: 84.54403741231489\n",
            "Combined 10% drops model, Attack Success Rate: 77.20966484801247\n"
          ]
        }
      ]
    },
    {
      "cell_type": "code",
      "source": [
        "# Creating a list containing the test accuracies for different combined models\n",
        "G_test_acc = [G_clean_test_2_accuracy, G_clean_test_4_accuracy, G_clean_test_10_accuracy]\n",
        "\n",
        "# Creating a list containing the attack success rates for the same combined models\n",
        "G_attack_rate = [G_asr_2, G_asr_4, G_asr_10]\n",
        "\n",
        "# Constructing a dictionary to organize the test accuracies, attack rates, and model names\n",
        "G_data = {\n",
        "    \"G_text_acc\": G_test_acc,             # Test accuracy for each combined model\n",
        "    \"G_attack_rate\": G_attack_rate,       # Attack success rate for each combined model\n",
        "    \"G_model\": [\"G_2%\", \"G_4%\", \"G_10%\"]  # Identifiers for each combined model\n",
        "}\n",
        "\n",
        "# Creating a DataFrame from the organized data\n",
        "G_df = pd.DataFrame(G_data)\n",
        "\n",
        "# Setting the 'G_model' column as the index of the DataFrame for better readability\n",
        "G_df.set_index('G_model')\n"
      ],
      "metadata": {
        "id": "9VgzlpEyqeKK",
        "colab": {
          "base_uri": "https://localhost:8080/",
          "height": 175
        },
        "outputId": "95832c3c-2f0e-458f-cb55-fa2f76ebd955"
      },
      "execution_count": 29,
      "outputs": [
        {
          "output_type": "execute_result",
          "data": {
            "text/plain": [
              "         G_text_acc  G_attack_rate\n",
              "G_model                           \n",
              "G_2%      95.900234     100.000000\n",
              "G_4%      92.291504      99.984412\n",
              "G_10%     84.544037      77.209665"
            ],
            "text/html": [
              "\n",
              "  <div id=\"df-7c184091-f18e-4648-b63c-6faf3c264151\" class=\"colab-df-container\">\n",
              "    <div>\n",
              "<style scoped>\n",
              "    .dataframe tbody tr th:only-of-type {\n",
              "        vertical-align: middle;\n",
              "    }\n",
              "\n",
              "    .dataframe tbody tr th {\n",
              "        vertical-align: top;\n",
              "    }\n",
              "\n",
              "    .dataframe thead th {\n",
              "        text-align: right;\n",
              "    }\n",
              "</style>\n",
              "<table border=\"1\" class=\"dataframe\">\n",
              "  <thead>\n",
              "    <tr style=\"text-align: right;\">\n",
              "      <th></th>\n",
              "      <th>G_text_acc</th>\n",
              "      <th>G_attack_rate</th>\n",
              "    </tr>\n",
              "    <tr>\n",
              "      <th>G_model</th>\n",
              "      <th></th>\n",
              "      <th></th>\n",
              "    </tr>\n",
              "  </thead>\n",
              "  <tbody>\n",
              "    <tr>\n",
              "      <th>G_2%</th>\n",
              "      <td>95.900234</td>\n",
              "      <td>100.000000</td>\n",
              "    </tr>\n",
              "    <tr>\n",
              "      <th>G_4%</th>\n",
              "      <td>92.291504</td>\n",
              "      <td>99.984412</td>\n",
              "    </tr>\n",
              "    <tr>\n",
              "      <th>G_10%</th>\n",
              "      <td>84.544037</td>\n",
              "      <td>77.209665</td>\n",
              "    </tr>\n",
              "  </tbody>\n",
              "</table>\n",
              "</div>\n",
              "    <div class=\"colab-df-buttons\">\n",
              "\n",
              "  <div class=\"colab-df-container\">\n",
              "    <button class=\"colab-df-convert\" onclick=\"convertToInteractive('df-7c184091-f18e-4648-b63c-6faf3c264151')\"\n",
              "            title=\"Convert this dataframe to an interactive table.\"\n",
              "            style=\"display:none;\">\n",
              "\n",
              "  <svg xmlns=\"http://www.w3.org/2000/svg\" height=\"24px\" viewBox=\"0 -960 960 960\">\n",
              "    <path d=\"M120-120v-720h720v720H120Zm60-500h600v-160H180v160Zm220 220h160v-160H400v160Zm0 220h160v-160H400v160ZM180-400h160v-160H180v160Zm440 0h160v-160H620v160ZM180-180h160v-160H180v160Zm440 0h160v-160H620v160Z\"/>\n",
              "  </svg>\n",
              "    </button>\n",
              "\n",
              "  <style>\n",
              "    .colab-df-container {\n",
              "      display:flex;\n",
              "      gap: 12px;\n",
              "    }\n",
              "\n",
              "    .colab-df-convert {\n",
              "      background-color: #E8F0FE;\n",
              "      border: none;\n",
              "      border-radius: 50%;\n",
              "      cursor: pointer;\n",
              "      display: none;\n",
              "      fill: #1967D2;\n",
              "      height: 32px;\n",
              "      padding: 0 0 0 0;\n",
              "      width: 32px;\n",
              "    }\n",
              "\n",
              "    .colab-df-convert:hover {\n",
              "      background-color: #E2EBFA;\n",
              "      box-shadow: 0px 1px 2px rgba(60, 64, 67, 0.3), 0px 1px 3px 1px rgba(60, 64, 67, 0.15);\n",
              "      fill: #174EA6;\n",
              "    }\n",
              "\n",
              "    .colab-df-buttons div {\n",
              "      margin-bottom: 4px;\n",
              "    }\n",
              "\n",
              "    [theme=dark] .colab-df-convert {\n",
              "      background-color: #3B4455;\n",
              "      fill: #D2E3FC;\n",
              "    }\n",
              "\n",
              "    [theme=dark] .colab-df-convert:hover {\n",
              "      background-color: #434B5C;\n",
              "      box-shadow: 0px 1px 3px 1px rgba(0, 0, 0, 0.15);\n",
              "      filter: drop-shadow(0px 1px 2px rgba(0, 0, 0, 0.3));\n",
              "      fill: #FFFFFF;\n",
              "    }\n",
              "  </style>\n",
              "\n",
              "    <script>\n",
              "      const buttonEl =\n",
              "        document.querySelector('#df-7c184091-f18e-4648-b63c-6faf3c264151 button.colab-df-convert');\n",
              "      buttonEl.style.display =\n",
              "        google.colab.kernel.accessAllowed ? 'block' : 'none';\n",
              "\n",
              "      async function convertToInteractive(key) {\n",
              "        const element = document.querySelector('#df-7c184091-f18e-4648-b63c-6faf3c264151');\n",
              "        const dataTable =\n",
              "          await google.colab.kernel.invokeFunction('convertToInteractive',\n",
              "                                                    [key], {});\n",
              "        if (!dataTable) return;\n",
              "\n",
              "        const docLinkHtml = 'Like what you see? Visit the ' +\n",
              "          '<a target=\"_blank\" href=https://colab.research.google.com/notebooks/data_table.ipynb>data table notebook</a>'\n",
              "          + ' to learn more about interactive tables.';\n",
              "        element.innerHTML = '';\n",
              "        dataTable['output_type'] = 'display_data';\n",
              "        await google.colab.output.renderOutput(dataTable, element);\n",
              "        const docLink = document.createElement('div');\n",
              "        docLink.innerHTML = docLinkHtml;\n",
              "        element.appendChild(docLink);\n",
              "      }\n",
              "    </script>\n",
              "  </div>\n",
              "\n",
              "\n",
              "<div id=\"df-84d2e57f-0d1a-4ec3-a850-b88b058b674b\">\n",
              "  <button class=\"colab-df-quickchart\" onclick=\"quickchart('df-84d2e57f-0d1a-4ec3-a850-b88b058b674b')\"\n",
              "            title=\"Suggest charts\"\n",
              "            style=\"display:none;\">\n",
              "\n",
              "<svg xmlns=\"http://www.w3.org/2000/svg\" height=\"24px\"viewBox=\"0 0 24 24\"\n",
              "     width=\"24px\">\n",
              "    <g>\n",
              "        <path d=\"M19 3H5c-1.1 0-2 .9-2 2v14c0 1.1.9 2 2 2h14c1.1 0 2-.9 2-2V5c0-1.1-.9-2-2-2zM9 17H7v-7h2v7zm4 0h-2V7h2v10zm4 0h-2v-4h2v4z\"/>\n",
              "    </g>\n",
              "</svg>\n",
              "  </button>\n",
              "\n",
              "<style>\n",
              "  .colab-df-quickchart {\n",
              "      --bg-color: #E8F0FE;\n",
              "      --fill-color: #1967D2;\n",
              "      --hover-bg-color: #E2EBFA;\n",
              "      --hover-fill-color: #174EA6;\n",
              "      --disabled-fill-color: #AAA;\n",
              "      --disabled-bg-color: #DDD;\n",
              "  }\n",
              "\n",
              "  [theme=dark] .colab-df-quickchart {\n",
              "      --bg-color: #3B4455;\n",
              "      --fill-color: #D2E3FC;\n",
              "      --hover-bg-color: #434B5C;\n",
              "      --hover-fill-color: #FFFFFF;\n",
              "      --disabled-bg-color: #3B4455;\n",
              "      --disabled-fill-color: #666;\n",
              "  }\n",
              "\n",
              "  .colab-df-quickchart {\n",
              "    background-color: var(--bg-color);\n",
              "    border: none;\n",
              "    border-radius: 50%;\n",
              "    cursor: pointer;\n",
              "    display: none;\n",
              "    fill: var(--fill-color);\n",
              "    height: 32px;\n",
              "    padding: 0;\n",
              "    width: 32px;\n",
              "  }\n",
              "\n",
              "  .colab-df-quickchart:hover {\n",
              "    background-color: var(--hover-bg-color);\n",
              "    box-shadow: 0 1px 2px rgba(60, 64, 67, 0.3), 0 1px 3px 1px rgba(60, 64, 67, 0.15);\n",
              "    fill: var(--button-hover-fill-color);\n",
              "  }\n",
              "\n",
              "  .colab-df-quickchart-complete:disabled,\n",
              "  .colab-df-quickchart-complete:disabled:hover {\n",
              "    background-color: var(--disabled-bg-color);\n",
              "    fill: var(--disabled-fill-color);\n",
              "    box-shadow: none;\n",
              "  }\n",
              "\n",
              "  .colab-df-spinner {\n",
              "    border: 2px solid var(--fill-color);\n",
              "    border-color: transparent;\n",
              "    border-bottom-color: var(--fill-color);\n",
              "    animation:\n",
              "      spin 1s steps(1) infinite;\n",
              "  }\n",
              "\n",
              "  @keyframes spin {\n",
              "    0% {\n",
              "      border-color: transparent;\n",
              "      border-bottom-color: var(--fill-color);\n",
              "      border-left-color: var(--fill-color);\n",
              "    }\n",
              "    20% {\n",
              "      border-color: transparent;\n",
              "      border-left-color: var(--fill-color);\n",
              "      border-top-color: var(--fill-color);\n",
              "    }\n",
              "    30% {\n",
              "      border-color: transparent;\n",
              "      border-left-color: var(--fill-color);\n",
              "      border-top-color: var(--fill-color);\n",
              "      border-right-color: var(--fill-color);\n",
              "    }\n",
              "    40% {\n",
              "      border-color: transparent;\n",
              "      border-right-color: var(--fill-color);\n",
              "      border-top-color: var(--fill-color);\n",
              "    }\n",
              "    60% {\n",
              "      border-color: transparent;\n",
              "      border-right-color: var(--fill-color);\n",
              "    }\n",
              "    80% {\n",
              "      border-color: transparent;\n",
              "      border-right-color: var(--fill-color);\n",
              "      border-bottom-color: var(--fill-color);\n",
              "    }\n",
              "    90% {\n",
              "      border-color: transparent;\n",
              "      border-bottom-color: var(--fill-color);\n",
              "    }\n",
              "  }\n",
              "</style>\n",
              "\n",
              "  <script>\n",
              "    async function quickchart(key) {\n",
              "      const quickchartButtonEl =\n",
              "        document.querySelector('#' + key + ' button');\n",
              "      quickchartButtonEl.disabled = true;  // To prevent multiple clicks.\n",
              "      quickchartButtonEl.classList.add('colab-df-spinner');\n",
              "      try {\n",
              "        const charts = await google.colab.kernel.invokeFunction(\n",
              "            'suggestCharts', [key], {});\n",
              "      } catch (error) {\n",
              "        console.error('Error during call to suggestCharts:', error);\n",
              "      }\n",
              "      quickchartButtonEl.classList.remove('colab-df-spinner');\n",
              "      quickchartButtonEl.classList.add('colab-df-quickchart-complete');\n",
              "    }\n",
              "    (() => {\n",
              "      let quickchartButtonEl =\n",
              "        document.querySelector('#df-84d2e57f-0d1a-4ec3-a850-b88b058b674b button');\n",
              "      quickchartButtonEl.style.display =\n",
              "        google.colab.kernel.accessAllowed ? 'block' : 'none';\n",
              "    })();\n",
              "  </script>\n",
              "</div>\n",
              "    </div>\n",
              "  </div>\n"
            ]
          },
          "metadata": {},
          "execution_count": 29
        }
      ]
    },
    {
      "cell_type": "code",
      "source": [
        "# Set the opacity and bar_width for the bars in the bar chart\n",
        "opacity = 0.4\n",
        "bar_width = 0.35\n",
        "\n",
        "# Set the label for the x and y-axis\n",
        "plt.xlabel('Combined % Drops Model')\n",
        "plt.ylabel('Rate')\n",
        "\n",
        "# Define the x-ticks (positions) and labels (2%, 4%, 10%) on the x-axis\n",
        "plt.xticks(range(len(G_test_acc)), ('2%', '4%', '10%'))\n",
        "\n",
        "# Plotting the first set of bars (test accuracy) and second set of bars (attack rate) for the combined models\n",
        "bar1 = plt.bar(np.arange(len(G_test_acc)) + bar_width, G_test_acc, bar_width, align='center', alpha=opacity, color='b', label='Accuracy')\n",
        "bar2 = plt.bar(range(len(G_attack_rate)), G_attack_rate, bar_width, align='center', alpha=opacity, color='r', label='Attack Rate')\n",
        "\n",
        "# Loop to add text labels above each bar, displaying the height (value) of the bar\n",
        "for rect in bar1 + bar2:\n",
        "    height = rect.get_height()\n",
        "    plt.text(rect.get_x() + rect.get_width() / 2.0, height, f'{height:.02f}', ha='center', va='bottom')\n",
        "\n",
        "# Adding plot details\n",
        "plt.legend(bbox_to_anchor=(1.4, 1))\n",
        "plt.tight_layout()\n",
        "plt.title('Performance of goodNet Model')\n",
        "sns.despine()\n",
        "\n",
        "# Display the final plot\n",
        "plt.show()\n"
      ],
      "metadata": {
        "id": "L0kFQv9Uq7Iq",
        "colab": {
          "base_uri": "https://localhost:8080/",
          "height": 509
        },
        "outputId": "9f29d7e0-c025-43c0-b6dc-017a4c0940f0"
      },
      "execution_count": 30,
      "outputs": [
        {
          "output_type": "display_data",
          "data": {
            "text/plain": [
              "<Figure size 640x480 with 1 Axes>"
            ],
            "image/png": "[encoded data removed]"
          },
          "metadata": {}
        }
      ]
    },
    {
      "cell_type": "markdown",
      "source": [
        "---"
      ],
      "metadata": {
        "id": "MFvCnaLAJr7j"
      }
    }
  ]
}